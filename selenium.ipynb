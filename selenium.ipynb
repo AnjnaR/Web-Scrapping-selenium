{
 "cells": [
  {
   "cell_type": "markdown",
   "id": "36204e6a",
   "metadata": {},
   "source": [
    "#Q1: Write a python program to scrape data for “Data Analyst” Job position in “Bangalore” location. You\n",
    "have to scrape the job-title, job-location, company_name, experience_required. You have to scrape first 10\n",
    "jobs data.\n"
   ]
  },
  {
   "cell_type": "code",
   "execution_count": null,
   "id": "4de73b9e",
   "metadata": {},
   "outputs": [],
   "source": [
    "!pip install selenium"
   ]
  },
  {
   "cell_type": "code",
   "execution_count": null,
   "id": "fb5f0c48",
   "metadata": {},
   "outputs": [],
   "source": [
    "import selenium\n",
    "from selenium import webdriver\n",
    "import pandas as pd\n",
    "import warnings\n",
    "warnings.filterwarnings(\"ignore\")"
   ]
  },
  {
   "cell_type": "code",
   "execution_count": null,
   "id": "c4359346",
   "metadata": {},
   "outputs": [],
   "source": [
    "driver=webdriver.Edge('msedgedriver.exe')"
   ]
  },
  {
   "cell_type": "code",
   "execution_count": null,
   "id": "b3d8a015",
   "metadata": {},
   "outputs": [],
   "source": [
    "url='http://www.naukri.com/'\n",
    "driver.get(url)\n"
   ]
  },
  {
   "cell_type": "code",
   "execution_count": null,
   "id": "ecd23bf2",
   "metadata": {},
   "outputs": [],
   "source": [
    "search_job=driver.find_element_by_xpath('/html/body/div/div[2]/div[3]/div/div/div[1]/div/div/div/input') \n",
    "print(search_job)"
   ]
  },
  {
   "cell_type": "code",
   "execution_count": null,
   "id": "98c321ed",
   "metadata": {},
   "outputs": [],
   "source": [
    "search_job.send_keys('“Data Analyst/Skill Designations/Companies')"
   ]
  },
  {
   "cell_type": "code",
   "execution_count": null,
   "id": "6547bf49",
   "metadata": {},
   "outputs": [],
   "source": [
    "search_loc=driver.find_element_by_xpath('/html/body/div/div[2]/div[3]/div/div/div[3]/div/div/div/input') \n",
    "print(search_loc)"
   ]
  },
  {
   "cell_type": "code",
   "execution_count": null,
   "id": "717c9732",
   "metadata": {},
   "outputs": [],
   "source": [
    "search_loc.send_keys('Bangalore')"
   ]
  },
  {
   "cell_type": "code",
   "execution_count": null,
   "id": "de9955bc",
   "metadata": {},
   "outputs": [],
   "source": [
    "search_btn=driver.find_element_by_xpath('/html/body/div/div[2]/div[3]/div/div/div[6]') \n",
    "print(search_btn)"
   ]
  },
  {
   "cell_type": "code",
   "execution_count": null,
   "id": "480df6c2",
   "metadata": {},
   "outputs": [],
   "source": [
    "search_btn.click()"
   ]
  },
  {
   "cell_type": "code",
   "execution_count": null,
   "id": "ce63952e",
   "metadata": {},
   "outputs": [],
   "source": [
    "title=driver.find_elements_by_xpath('//a[@class=\"title fw500 ellipsis\"]')\n",
    "len(title)"
   ]
  },
  {
   "cell_type": "code",
   "execution_count": null,
   "id": "ffd19d58",
   "metadata": {},
   "outputs": [],
   "source": [
    "title_tags=[]\n",
    "for i in title:\n",
    "    title_tags.append(i.text)\n",
    "title_tags=title_tags[0:10]\n",
    "print(title_tags)"
   ]
  },
  {
   "cell_type": "code",
   "execution_count": null,
   "id": "5674f4a3",
   "metadata": {},
   "outputs": [],
   "source": [
    "location=driver.find_elements_by_xpath('//li[@class=\"fleft grey-text br2 placeHolderLi location\"]')\n",
    "len(location)"
   ]
  },
  {
   "cell_type": "code",
   "execution_count": null,
   "id": "c45f0ce7",
   "metadata": {},
   "outputs": [],
   "source": [
    "location_tags=[]\n",
    "for i in location:\n",
    "    location_tags.append(i.text)\n",
    "location_tags=location_tags[0:10]    \n",
    "print(location_tags)\n",
    "len(location_tags)"
   ]
  },
  {
   "cell_type": "code",
   "execution_count": null,
   "id": "586f093e",
   "metadata": {},
   "outputs": [],
   "source": [
    "company=driver.find_elements_by_xpath('//a[@class=\"subTitle ellipsis fleft\"]')\n",
    "len(company)\n"
   ]
  },
  {
   "cell_type": "code",
   "execution_count": null,
   "id": "338c5219",
   "metadata": {},
   "outputs": [],
   "source": [
    "company_tags=[]\n",
    "for i in company:\n",
    "    company_tags.append(i.text)\n",
    "company_tags=company_tags[0:10]\n",
    "print(company_tags)"
   ]
  },
  {
   "cell_type": "code",
   "execution_count": null,
   "id": "2243ce63",
   "metadata": {},
   "outputs": [],
   "source": [
    "experience_tags=[]\n",
    "for i in driver.find_elements_by_xpath('//li[@class=\"fleft grey-text br2 placeHolderLi experience\"]'):\n",
    "    experience_tags.append(i.text)\n",
    "experience_tags=experience_tags[0:10]\n",
    "print(experience_tags)"
   ]
  },
  {
   "cell_type": "code",
   "execution_count": null,
   "id": "4b93598f",
   "metadata": {},
   "outputs": [],
   "source": [
    "import pandas as pd\n",
    "list_jobs=pd.DataFrame()\n",
    "list_jobs['Job titles']=title_tags\n",
    "list_jobs['Location']=location_tags\n",
    "list_jobs['Companies']=company_tags\n",
    "list_jobs['Experience']=experience_tags\n",
    "list_jobs"
   ]
  },
  {
   "cell_type": "code",
   "execution_count": null,
   "id": "97642dfc",
   "metadata": {},
   "outputs": [],
   "source": [
    "url='http://www.naukri.com/'\n",
    "driver.get(url)\n"
   ]
  },
  {
   "cell_type": "code",
   "execution_count": null,
   "id": "a1d1e757",
   "metadata": {},
   "outputs": [],
   "source": [
    "search_job=driver.find_element_by_xpath('/html/body/div/div[2]/div[3]/div/div/div[1]/div/div/div/input') \n",
    "print(search_job)"
   ]
  },
  {
   "cell_type": "code",
   "execution_count": null,
   "id": "76b5783e",
   "metadata": {},
   "outputs": [],
   "source": [
    "search_job.send_keys('“Data Scientist')"
   ]
  },
  {
   "cell_type": "code",
   "execution_count": null,
   "id": "4a6a3cfb",
   "metadata": {},
   "outputs": [],
   "source": [
    "search_loc=driver.find_element_by_xpath('/html/body/div/div[2]/div[3]/div/div/div[3]/div/div/div/input') \n",
    "print(search_loc)"
   ]
  },
  {
   "cell_type": "code",
   "execution_count": null,
   "id": "a9da489f",
   "metadata": {},
   "outputs": [],
   "source": [
    "search_loc.send_keys('Bangalore')"
   ]
  },
  {
   "cell_type": "code",
   "execution_count": null,
   "id": "0fe4ec83",
   "metadata": {},
   "outputs": [],
   "source": [
    "search_btn1=driver.find_element_by_xpath('/html/body/div/div[2]/div[3]/div/div/div[6]') \n",
    "print(search_btn1)"
   ]
  },
  {
   "cell_type": "code",
   "execution_count": null,
   "id": "8311a480",
   "metadata": {},
   "outputs": [],
   "source": [
    "search_btn1.click()"
   ]
  },
  {
   "cell_type": "code",
   "execution_count": null,
   "id": "91ebd500",
   "metadata": {},
   "outputs": [],
   "source": [
    "title=[]\n",
    "\n",
    "for i in driver.find_elements_by_xpath('//a[@class=\"title fw500 ellipsis\"]'):\n",
    "    title.append(i.text)\n",
    "title=title[0:10]\n",
    "print(title)"
   ]
  },
  {
   "cell_type": "code",
   "execution_count": null,
   "id": "fc162700",
   "metadata": {},
   "outputs": [],
   "source": [
    "loc=[]\n",
    "\n",
    "for i in driver.find_elements_by_xpath('//li[@class=\"fleft grey-text br2 placeHolderLi location\"]'):\n",
    "    loc.append(i.text)\n",
    "loc=loc[0:10]\n",
    "print(loc)\n",
    "len(loc)"
   ]
  },
  {
   "cell_type": "code",
   "execution_count": null,
   "id": "7e7d9902",
   "metadata": {},
   "outputs": [],
   "source": [
    "company =[]\n",
    "\n",
    "for i in driver.find_elements_by_xpath('//div[@class=\"mt-7 companyInfo subheading lh16\"]'):\n",
    "    company.append(i.text)\n",
    "company=company[0:10]\n",
    "print(company)"
   ]
  },
  {
   "cell_type": "code",
   "execution_count": null,
   "id": "fd22ac4c",
   "metadata": {},
   "outputs": [],
   "source": [
    "jobs=pd.DataFrame()\n",
    "jobs['Job Title']=title\n",
    "jobs['Location']=loc\n",
    "jobs['Company']=company\n",
    "jobs"
   ]
  },
  {
   "cell_type": "code",
   "execution_count": null,
   "id": "c7e41200",
   "metadata": {},
   "outputs": [],
   "source": [
    "url='http://www.naukri.com/'\n",
    "driver.get(url)"
   ]
  },
  {
   "cell_type": "code",
   "execution_count": null,
   "id": "36f88898",
   "metadata": {},
   "outputs": [],
   "source": [
    "search_job=driver.find_element_by_xpath('/html/body/div/div[2]/div[3]/div/div/div[1]/div/div/div/input') \n",
    "print(search_job)"
   ]
  },
  {
   "cell_type": "code",
   "execution_count": null,
   "id": "bc48ec4c",
   "metadata": {},
   "outputs": [],
   "source": [
    "search_job.send_keys('“Data Scientist')"
   ]
  },
  {
   "cell_type": "code",
   "execution_count": null,
   "id": "f86f1c28",
   "metadata": {},
   "outputs": [],
   "source": [
    "search_btn2=driver.find_element_by_xpath('/html/body/div/div[2]/div[3]/div/div/div[6]') \n",
    "print(search_btn2)"
   ]
  },
  {
   "cell_type": "code",
   "execution_count": null,
   "id": "c5540fc1",
   "metadata": {},
   "outputs": [],
   "source": [
    "search_btn2.click()"
   ]
  },
  {
   "cell_type": "code",
   "execution_count": null,
   "id": "4952a5b3",
   "metadata": {},
   "outputs": [],
   "source": [
    "loc_filter=driver.find_element_by_xpath('/html/body/div[1]/div[3]/div[2]/section[1]/div[2]/div[1]/div[2]/div[3]/label/i')\n",
    "print(loc_filter)"
   ]
  },
  {
   "cell_type": "code",
   "execution_count": null,
   "id": "d3f0199a",
   "metadata": {},
   "outputs": [],
   "source": [
    "loc_filter.click()"
   ]
  },
  {
   "cell_type": "code",
   "execution_count": null,
   "id": "15eec057",
   "metadata": {},
   "outputs": [],
   "source": [
    "salary_filter=driver.find_element_by_xpath('/html/body/div[1]/div[3]/div[2]/section[1]/div[2]/div[4]/div[2]/div[2]/label/i')\n",
    "print(salary_filter)"
   ]
  },
  {
   "cell_type": "code",
   "execution_count": null,
   "id": "63b47313",
   "metadata": {},
   "outputs": [],
   "source": [
    "salary_filter.click()"
   ]
  },
  {
   "cell_type": "code",
   "execution_count": null,
   "id": "fe85d5cc",
   "metadata": {},
   "outputs": [],
   "source": [
    "job_titles=[]\n",
    "for j in driver.find_elements_by_xpath('//a[@class=\"title fw500 ellipsis\"]'):\n",
    "    job_titles.append(j.text)\n",
    "titles=job_titles[0:10]\n",
    "print(title)\n",
    "len(title) "
   ]
  },
  {
   "cell_type": "code",
   "execution_count": null,
   "id": "daf7262f",
   "metadata": {},
   "outputs": [],
   "source": [
    "job_company=[]\n",
    "for c in driver.find_elements_by_xpath('//div[@class=\"mt-7 companyInfo subheading lh16\"]'):\n",
    "    job_company.append(c.text)\n",
    "company=job_company[0:10]\n",
    "print(company)\n",
    "len(company) "
   ]
  },
  {
   "cell_type": "code",
   "execution_count": null,
   "id": "b2fbbbc5",
   "metadata": {},
   "outputs": [],
   "source": [
    "loc=[]\n",
    "for l in driver.find_elements_by_xpath('//li[@class=\"fleft grey-text br2 placeHolderLi location\"]'):\n",
    "    loc.append(l.text)\n",
    "loc=loc[0:10]\n",
    "print(loc)\n",
    "len(loc) "
   ]
  },
  {
   "cell_type": "code",
   "execution_count": null,
   "id": "8006d5c4",
   "metadata": {},
   "outputs": [],
   "source": [
    "exp=[]\n",
    "for e in driver.find_elements_by_xpath('//li[@class=\"fleft grey-text br2 placeHolderLi location\"]'):\n",
    "    exp.append(e.text)\n",
    "exp=exp[0:10]\n",
    "print(exp)\n",
    "len(exp) "
   ]
  },
  {
   "cell_type": "code",
   "execution_count": null,
   "id": "456266d8",
   "metadata": {},
   "outputs": [],
   "source": [
    "df=pd.DataFrame()\n",
    "df['Job Title']=title\n",
    "df['Location']=loc\n",
    "df['Company']=company\n",
    "df['Experience ']=exp\n",
    "df"
   ]
  },
  {
   "cell_type": "code",
   "execution_count": null,
   "id": "1df18147",
   "metadata": {},
   "outputs": [],
   "source": [
    "url='https://www.flipkart.com/'\n",
    "driver.get(url)\n"
   ]
  },
  {
   "cell_type": "code",
   "execution_count": null,
   "id": "c29e1a66",
   "metadata": {},
   "outputs": [],
   "source": [
    "search=driver.find_element_by_xpath('/html/body/div[1]/div/div[1]/div[1]/div[2]/div[2]/form/div/div/input') \n",
    "print(search)"
   ]
  },
  {
   "cell_type": "code",
   "execution_count": null,
   "id": "89390179",
   "metadata": {},
   "outputs": [],
   "source": [
    "search.send_keys(\"Sunglasses\")"
   ]
  },
  {
   "cell_type": "code",
   "execution_count": null,
   "id": "c1b7d3fa",
   "metadata": {},
   "outputs": [],
   "source": [
    "search_btn=driver.find_element_by_xpath(\"//button[@class='L0Z3Pu']\") \n",
    "print(search_btn)"
   ]
  },
  {
   "cell_type": "code",
   "execution_count": null,
   "id": "279a6014",
   "metadata": {},
   "outputs": [],
   "source": [
    "search_btn.click()"
   ]
  },
  {
   "cell_type": "code",
   "execution_count": null,
   "id": "2c1e3322",
   "metadata": {},
   "outputs": [],
   "source": [
    "url = driver.find_elements_by_xpath(\"//nav[@class='yFHi8N']\")\n",
    "url     \n"
   ]
  },
  {
   "cell_type": "code",
   "execution_count": null,
   "id": "3bd52546",
   "metadata": {},
   "outputs": [],
   "source": [
    "url=driver.find_elements_by_xpath(\"//nav[@class='yFHi8N']\")\n",
    "url"
   ]
  },
  {
   "cell_type": "code",
   "execution_count": null,
   "id": "21d91090",
   "metadata": {},
   "outputs": [],
   "source": [
    "page_url = [] # a list containg url's of every page\\n\",\n",
    "url = driver.find_elements_by_xpath('//nav[@class=\"yFHi8N\"]//a')\n",
    "for i in url:\n",
    "    page_url.append(i.get_attribute('href'))\n",
    "print(page_url)\n",
    "\n"
   ]
  },
  {
   "cell_type": "code",
   "execution_count": null,
   "id": "a69f8f2a",
   "metadata": {},
   "outputs": [],
   "source": [
    "brand_names=[]\n",
    "for i in page_url[:3]:\n",
    "    driver.get(i)\n",
    "    brands=driver.find_elements_by_class_name('_2WkVRV')#scraping brands name by class name='_2WkVRV'\\n\",\n",
    "    for i in brands:\n",
    "        brand_names.append(i.text)\n",
    "brand_names=brand_names[0:100]\n",
    "print(brand_names)\n",
    "len(brand_names)"
   ]
  },
  {
   "cell_type": "code",
   "execution_count": null,
   "id": "5b0e7edd",
   "metadata": {},
   "outputs": [],
   "source": [
    "desc=[]\n",
    "for i in page_url[:3]:\n",
    "    driver.get(i)\n",
    "    des=driver.find_elements_by_class_name('IRpwTa')#scraping decription by class name='IRpwTa\",\n",
    "    for i in des:\n",
    "        desc.append(i.text)\n",
    "desc=desc[0:100]\n",
    "print(desc)\n",
    "len(desc)"
   ]
  },
  {
   "cell_type": "code",
   "execution_count": null,
   "id": "7ac64d78",
   "metadata": {},
   "outputs": [],
   "source": [
    "price=[]\n",
    "for i in page_url[:3]:\n",
    "    driver.get(i)\n",
    "    price1=driver.find_elements_by_class_name('_30jeq3')#scraping price by class name='_30jeq3\",\n",
    "    for i in price1:\n",
    "        price.append(i.text)\n",
    "price=price[0:100]\n",
    "print(price)\n",
    "len(price)"
   ]
  },
  {
   "cell_type": "code",
   "execution_count": null,
   "id": "7cd381fe",
   "metadata": {},
   "outputs": [],
   "source": [
    "len(brand_names),len(desc),len(price)"
   ]
  },
  {
   "cell_type": "code",
   "execution_count": null,
   "id": "f1fe9c94",
   "metadata": {},
   "outputs": [],
   "source": [
    "df=pd.DataFrame()\n",
    "df['Brand']=brand_names\n",
    "df['Product Description']=desc\n",
    "df['Price']=price\n",
    "df"
   ]
  },
  {
   "cell_type": "code",
   "execution_count": null,
   "id": "8431b079",
   "metadata": {},
   "outputs": [],
   "source": [
    "url='https://www.flipkart.com/apple-iphone-11-black-64-gb-includes- earpods-power\u0002adapter/p/itm0f37c2240b217?pid=MOBFKCTSVZAXUHGR&lid=LSTMOBFKCTSVZAXUHGREPBFGI&marketplace'\n",
    "driver.get(url)\n"
   ]
  },
  {
   "cell_type": "code",
   "execution_count": null,
   "id": "45107f26",
   "metadata": {},
   "outputs": [],
   "source": [
    "get_all=driver.find_element_by_xpath('/html/body/div[1]/div/div[3]/div[1]/div[2]/div[8]/div/div/div[5]/div/a/div/span') \n",
    "print(get_all)"
   ]
  },
  {
   "cell_type": "code",
   "execution_count": null,
   "id": "3dd296e8",
   "metadata": {},
   "outputs": [],
   "source": [
    "get_all.click()"
   ]
  },
  {
   "cell_type": "code",
   "execution_count": null,
   "id": "94d18afb",
   "metadata": {},
   "outputs": [],
   "source": [
    "page_url = [] # a list containg url's of every page\\n\",\n",
    "url = driver.find_elements_by_xpath('//nav[@class=\"yFHi8N\"]//a')\n",
    "for i in url:\n",
    "    page_url.append(i.get_attribute('href'))\n",
    "print(page_url)\n",
    "\n"
   ]
  },
  {
   "cell_type": "code",
   "execution_count": null,
   "id": "afc9d055",
   "metadata": {},
   "outputs": [],
   "source": [
    "starss=[]\n",
    "for i in page_url[:11]:\n",
    "    driver.get(i)\n",
    "    star=driver.find_elements_by_xpath(\"//div[@class='_3LWZlK _1BLPMq']\")\n",
    "    for i in star:\n",
    "        starss.append(i.text)\n",
    "starss=starss[0:100]\n",
    "\n",
    "print(starss)\n",
    "len(starss)"
   ]
  },
  {
   "cell_type": "code",
   "execution_count": null,
   "id": "6557bcbc",
   "metadata": {},
   "outputs": [],
   "source": [
    "rev_sum=[]\n",
    "for i in page_url[:11]:\n",
    "    driver.get(i)\n",
    "    rev=driver.find_elements_by_xpath(\"//p[@class='_2-N8zT']\")\n",
    "    for i in rev:\n",
    "        rev_sum.append(i.text)\n",
    "rev_sum=rev_sum[0:100]\n",
    "\n",
    "print(rev_sum)\n",
    "len(rev_sum)"
   ]
  },
  {
   "cell_type": "code",
   "execution_count": null,
   "id": "d8a22e10",
   "metadata": {},
   "outputs": [],
   "source": [
    "full_rev=[]\n",
    "for i in page_url[:11]:\n",
    "    driver.get(i)\n",
    "    rev=driver.find_elements_by_xpath(\"//div[@class='']\")\n",
    "    for i in rev:\n",
    "        full_rev.append(i.text)\n",
    "full_rev=full_rev[0:100]\n",
    "\n",
    "print(full_rev)\n",
    "len(full_rev)"
   ]
  },
  {
   "cell_type": "code",
   "execution_count": null,
   "id": "1a0f864a",
   "metadata": {},
   "outputs": [],
   "source": [
    "df=pd.DataFrame()\n",
    "df['Rating']=starss\n",
    "df['Review Summary ']=rev_sum\n",
    "df['Full Review ']=full_rev\n",
    "df"
   ]
  },
  {
   "cell_type": "code",
   "execution_count": null,
   "id": "44bac26b",
   "metadata": {},
   "outputs": [],
   "source": [
    "url='https://www.myntra.com/shoes'\n",
    "driver.get(url)"
   ]
  },
  {
   "cell_type": "code",
   "execution_count": null,
   "id": "64734a51",
   "metadata": {},
   "outputs": [],
   "source": [
    "x=driver.find_element_by_xpath(\"/html/body/div[2]/div/div[1]/main/div[3]/div[1]/section/div/div[6]/ul/li[1]/label/div\")\n",
    "x\n",
    "x.click()"
   ]
  },
  {
   "cell_type": "code",
   "execution_count": null,
   "id": "15b2b438",
   "metadata": {},
   "outputs": [],
   "source": [
    "v=driver.find_element_by_xpath(\"/html/body/div[2]/div/div[1]/main/div[3]/div[1]/section/div/div[5]/ul/li[2]/label/div\")\n",
    "v\n",
    "v.click()"
   ]
  },
  {
   "cell_type": "code",
   "execution_count": null,
   "id": "a8d6ec64",
   "metadata": {},
   "outputs": [],
   "source": [
    "page_url = [] # a list containg url's of every page\\n\",\n",
    "url = driver.find_elements_by_xpath('//ul[@class=\"pagination-container\"]//a')\n",
    "for i in url:\n",
    "    page_url.append(i.get_attribute('href'))\n",
    "print(page_url)\n",
    "\n"
   ]
  },
  {
   "cell_type": "code",
   "execution_count": null,
   "id": "d646f945",
   "metadata": {},
   "outputs": [],
   "source": [
    "brand=[]\n",
    "for i in page_url[:2]:\n",
    "    driver.get(i)\n",
    "    brands=driver.find_elements_by_xpath(\"//h3[@class='product-brand']\")\n",
    "    for l in brands:\n",
    "        brand.append(l.text)\n",
    "\n",
    "\n",
    "print(brand)\n",
    "len(brand)"
   ]
  },
  {
   "cell_type": "code",
   "execution_count": null,
   "id": "3c5dce2a",
   "metadata": {},
   "outputs": [],
   "source": [
    "brand_des=[]\n",
    "for i in page_url[:2]:\n",
    "    driver.get(i)\n",
    "    brands_des=driver.find_elements_by_xpath(\"//h4[@class='product-product']\")\n",
    "    for l in brands_des:\n",
    "        brand_des.append(l.text)\n",
    "\n",
    "\n",
    "print(brand_des)\n",
    "len(brand_des)"
   ]
  },
  {
   "cell_type": "code",
   "execution_count": null,
   "id": "667f87c2",
   "metadata": {},
   "outputs": [],
   "source": [
    "price=[]\n",
    "for i in page_url[:2]:\n",
    "    driver.get(i)\n",
    "    price1=driver.find_elements_by_xpath(\"//div[@class='product-price']\")\n",
    "    for l in price1:\n",
    "        price.append(l.text.replace('Rs', ''))\n",
    "\n",
    "\n",
    "print(price)\n",
    "len(price)"
   ]
  },
  {
   "cell_type": "code",
   "execution_count": null,
   "id": "9b6df39e",
   "metadata": {},
   "outputs": [],
   "source": [
    "ds=pd.DataFrame()\n",
    "ds['Brand']=brand\n",
    "ds['Brand Description ']=brand_des\n",
    "ds['Price']=price\n",
    "ds"
   ]
  },
  {
   "cell_type": "code",
   "execution_count": null,
   "id": "5157a5fe",
   "metadata": {},
   "outputs": [],
   "source": [
    "url='https://www.amazon.in'\n",
    "driver.get(url)"
   ]
  },
  {
   "cell_type": "code",
   "execution_count": null,
   "id": "1affd36f",
   "metadata": {},
   "outputs": [],
   "source": [
    "search=driver.find_element_by_xpath(\"/html/body/div[1]/header/div/div[1]/div[2]/div/form/div[2]/div[1]/input\")\n",
    "search\n"
   ]
  },
  {
   "cell_type": "code",
   "execution_count": null,
   "id": "2f2b6404",
   "metadata": {},
   "outputs": [],
   "source": [
    "search.send_keys('Laptop')"
   ]
  },
  {
   "cell_type": "code",
   "execution_count": null,
   "id": "de81c28b",
   "metadata": {},
   "outputs": [],
   "source": [
    "search_btn=driver.find_element_by_xpath(\"/html/body/div[1]/header/div/div[1]/div[2]/div/form/div[3]/div/span/input\")\n",
    "search_btn\n",
    "search_btn.click()\n"
   ]
  },
  {
   "cell_type": "code",
   "execution_count": null,
   "id": "7d3a21e0",
   "metadata": {},
   "outputs": [],
   "source": [
    "c=driver.find_element_by_xpath(\"//span[@class='a-size-base a-color-base a-text-bold']\")\n",
    "c\n",
    "c.click()\n"
   ]
  },
  {
   "cell_type": "code",
   "execution_count": null,
   "id": "f916463d",
   "metadata": {},
   "outputs": [],
   "source": [
    "b=[]\n",
    "\n",
    "for i in driver.find_elements_by_xpath('//span[@class=\"a-size-medium a-color-base a-text-normal\"]'):\n",
    "    b.append(i.text)\n",
    "b=b[0:10]\n",
    "print(b)\n",
    "len(b)"
   ]
  },
  {
   "cell_type": "code",
   "execution_count": null,
   "id": "4e2e3330",
   "metadata": {},
   "outputs": [],
   "source": [
    "c=[]\n",
    "\n",
    "for i in driver.find_elements_by_xpath('//*[@class=\"a-icon-alt\"]'):\n",
    "    c.append(i.get_attribute('innerHTML').replace('out of 5 stars',''))\n",
    "c=c[0:10]\n",
    "print(c)\n",
    "\n",
    "\n",
    "len(c)"
   ]
  },
  {
   "cell_type": "code",
   "execution_count": null,
   "id": "436a8e94",
   "metadata": {},
   "outputs": [],
   "source": [
    "d=[]\n",
    "\n",
    "for i in driver.find_elements_by_xpath('//*[@class=\"a-price-whole\"]'):\n",
    "    d.append(i.text)\n",
    "d=d[0:10]\n",
    "print(d)\n",
    "len(d)"
   ]
  },
  {
   "cell_type": "code",
   "execution_count": null,
   "id": "2383e642",
   "metadata": {},
   "outputs": [],
   "source": [
    "dd=pd.DataFrame()\n",
    "dd['Title']=b\n",
    "dd['Rating']=c\n",
    "dd['Price']=d\n",
    "dd"
   ]
  },
  {
   "cell_type": "code",
   "execution_count": null,
   "id": "03e2eb73",
   "metadata": {},
   "outputs": [],
   "source": [
    "url='https://www.ambitionbox.com/'\n",
    "driver.get(url)"
   ]
  },
  {
   "cell_type": "code",
   "execution_count": null,
   "id": "6f3eb978",
   "metadata": {},
   "outputs": [],
   "source": [
    "\n",
    "job_s=driver.find_element_by_xpath(\"//*[@class='link jobs']\").click()\n"
   ]
  },
  {
   "cell_type": "code",
   "execution_count": null,
   "id": "4e1ebb3a",
   "metadata": {},
   "outputs": [],
   "source": [
    "\n",
    "search =driver.find_element_by_xpath(\"/html/body/div/div/div/div[2]/div[1]/div/div/div/div/span/input\").send_keys('Data scientists')"
   ]
  },
  {
   "cell_type": "code",
   "execution_count": null,
   "id": "e2edbe6b",
   "metadata": {},
   "outputs": [],
   "source": [
    "jo=driver.find_element_by_xpath(\"/html/body/div/div/div/div[2]/div[1]/div/div/div/button/span\").click()\n",
    "\n",
    "\n"
   ]
  },
  {
   "cell_type": "code",
   "execution_count": null,
   "id": "34298a5a",
   "metadata": {},
   "outputs": [],
   "source": [
    "j=driver.find_element_by_xpath(\"/html/body/div/div/div/div[2]/div[2]/div[1]/div/div/div/div[2]/div[1]/p\").click()\n",
    "\n",
    "\n"
   ]
  },
  {
   "cell_type": "code",
   "execution_count": null,
   "id": "6f2e2960",
   "metadata": {},
   "outputs": [],
   "source": [
    "jt=driver.find_element_by_xpath(\"/html/body/div/div/div/div[2]/div[2]/div[1]/div/div/div/div[2]/div[2]/div/div[3]/div[1]/div[8]/div/label\")"
   ]
  },
  {
   "cell_type": "code",
   "execution_count": null,
   "id": "6d2dcbbb",
   "metadata": {},
   "outputs": [],
   "source": []
  },
  {
   "cell_type": "code",
   "execution_count": null,
   "id": "dbf37b12",
   "metadata": {},
   "outputs": [],
   "source": []
  }
 ],
 "metadata": {
  "kernelspec": {
   "display_name": "Python 3",
   "language": "python",
   "name": "python3"
  },
  "language_info": {
   "codemirror_mode": {
    "name": "ipython",
    "version": 3
   },
   "file_extension": ".py",
   "mimetype": "text/x-python",
   "name": "python",
   "nbconvert_exporter": "python",
   "pygments_lexer": "ipython3",
   "version": "3.8.8"
  }
 },
 "nbformat": 4,
 "nbformat_minor": 5
}
